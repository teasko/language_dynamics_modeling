{
 "cells": [
  {
   "cell_type": "code",
   "execution_count": 1,
   "metadata": {},
   "outputs": [],
   "source": [
    "import json"
   ]
  },
  {
   "cell_type": "markdown",
   "metadata": {},
   "source": [
    "## Parameters"
   ]
  },
  {
   "cell_type": "code",
   "execution_count": 2,
   "metadata": {},
   "outputs": [],
   "source": [
    "p = {}"
   ]
  },
  {
   "cell_type": "code",
   "execution_count": 3,
   "metadata": {},
   "outputs": [],
   "source": [
    "# population params\n",
    "p[\"pop\"] = {\"mu\": (0.01143+0.01078)/2,\n",
    "          \"lam\": (0.00753+0.00843)/2}  # 2002: 8.43; 2014: 7.53 # 2002: 11.43 ; 2014: 10.78"
   ]
  },
  {
   "cell_type": "code",
   "execution_count": 4,
   "metadata": {},
   "outputs": [],
   "source": [
    "# migration\n",
    "p[\"mig\"] = {\"mode_abs\": False,\n",
    "            \"nu\": (0.003165+0.01074)/2, # 2002: 10.74 ; 2014: 3.165\n",
    "            \"mh\": 1,\n",
    "            \"ml\": 0,\n",
    "            \"mb\": 0}"
   ]
  },
  {
   "cell_type": "code",
   "execution_count": 5,
   "metadata": {},
   "outputs": [],
   "source": [
    "#schooling\n",
    "p[\"s\"] = {\"sHB\": 0,\n",
    "          \"sBH\": 0.2,\n",
    "          \"sLB\": 0,\n",
    "          \"sLH\" :0}"
   ]
  },
  {
   "cell_type": "code",
   "execution_count": 6,
   "metadata": {},
   "outputs": [],
   "source": [
    "p[\"a\"] = {\"aHB\": 0,\n",
    "          \"aLB\": 0,\n",
    "          \"aBH\": 0,\n",
    "          \"aBL\": 0} "
   ]
  },
  {
   "cell_type": "code",
   "execution_count": 7,
   "metadata": {},
   "outputs": [],
   "source": [
    "# conentration\n",
    "p[\"C\"] ={\"C1\": 0.5,\n",
    "         \"C2\": 0}"
   ]
  },
  {
   "cell_type": "code",
   "execution_count": 8,
   "metadata": {},
   "outputs": [],
   "source": [
    "# transmission\n",
    "p[\"q\"] = {\"H\": [0.749, 0.104, 0, 0, 0.074], #   HH HB LL LB BB\n",
    "          \"L\": [0, 0, 1, 1, 0], #   HH HB LL LB BB\n",
    "          \"B\": [0.251, 0.896, 0, 0, 0.926]} #   HH HB LL LB BB"
   ]
  },
  {
   "cell_type": "code",
   "execution_count": null,
   "metadata": {},
   "outputs": [],
   "source": []
  },
  {
   "cell_type": "markdown",
   "metadata": {},
   "source": [
    "## Empirical Distribution - 2014 version"
   ]
  },
  {
   "cell_type": "code",
   "execution_count": 9,
   "metadata": {},
   "outputs": [],
   "source": [
    "p[\"emp\"] = {\"Years\": [1998,2014],\n",
    "            \"Rel\": {\"xB\": [0.684,0.604],\n",
    "                    \"xH\": [0.316,0.396],\n",
    "                    \"xL\": [0,0]},\n",
    "            \"N\": [925918,993663]}"
   ]
  },
  {
   "cell_type": "markdown",
   "metadata": {},
   "source": [
    "## Empirical Distribution - old version"
   ]
  },
  {
   "cell_type": "code",
   "execution_count": 12,
   "metadata": {},
   "outputs": [],
   "source": [
    "p[\"emp\"] = {\"Years\": [1978,1998,2014],\n",
    "            \"Rel\": {\"xB\": [0.85,0.775,0.675],\n",
    "                    \"xH\": [0.15,0.225,0.325],\n",
    "                    \"xL\": [0,0,0]},\n",
    "            \"N\": [870000,925918,993663]}\n",
    "   "
   ]
  },
  {
   "cell_type": "markdown",
   "metadata": {},
   "source": [
    "## Save data to json"
   ]
  },
  {
   "cell_type": "code",
   "execution_count": 10,
   "metadata": {},
   "outputs": [],
   "source": [
    "with open(\"friul_params_2014.json\", \"w\") as file:\n",
    "    json.dump(p,file)"
   ]
  },
  {
   "cell_type": "code",
   "execution_count": 13,
   "metadata": {},
   "outputs": [],
   "source": [
    "with open(\"friul_params_old_sample.json\", \"w\") as file:\n",
    "    json.dump(p,file)"
   ]
  },
  {
   "cell_type": "code",
   "execution_count": null,
   "metadata": {},
   "outputs": [],
   "source": []
  }
 ],
 "metadata": {
  "kernelspec": {
   "display_name": "Python 3",
   "language": "python",
   "name": "python3"
  },
  "language_info": {
   "codemirror_mode": {
    "name": "ipython",
    "version": 3
   },
   "file_extension": ".py",
   "mimetype": "text/x-python",
   "name": "python",
   "nbconvert_exporter": "python",
   "pygments_lexer": "ipython3",
   "version": "3.8.3"
  }
 },
 "nbformat": 4,
 "nbformat_minor": 2
}
