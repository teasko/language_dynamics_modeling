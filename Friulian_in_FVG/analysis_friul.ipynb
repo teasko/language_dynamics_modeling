{
 "cells": [
  {
   "cell_type": "code",
   "execution_count": 1,
   "metadata": {},
   "outputs": [],
   "source": [
    "import numpy as np\n",
    "import json"
   ]
  },
  {
   "cell_type": "code",
   "execution_count": 2,
   "metadata": {},
   "outputs": [],
   "source": [
    "import sys\n",
    "import pathlib\n",
    "sys.path.append(pathlib.Path().absolute().parent.as_posix())"
   ]
  },
  {
   "cell_type": "code",
   "execution_count": 3,
   "metadata": {},
   "outputs": [],
   "source": [
    "from functions.dynamics_functions import psi_function \n",
    "from functions.trajectories import *\n",
    "from functions.set_objects_from_data import *\n",
    "from functions.plot_functions import *\n",
    "\n",
    "from classes.EmpData import Data\n"
   ]
  },
  {
   "cell_type": "markdown",
   "metadata": {},
   "source": [
    "## Set final year"
   ]
  },
  {
   "cell_type": "code",
   "execution_count": 4,
   "metadata": {},
   "outputs": [],
   "source": [
    "T = 2050"
   ]
  },
  {
   "cell_type": "markdown",
   "metadata": {},
   "source": [
    "## Model 1: Full sample 2014"
   ]
  },
  {
   "cell_type": "markdown",
   "metadata": {},
   "source": [
    "### Version 1:  Start at 1998 with estimated numbers\n",
    "* Constant model\n",
    "* relative migration"
   ]
  },
  {
   "cell_type": "code",
   "execution_count": 5,
   "metadata": {},
   "outputs": [],
   "source": [
    "# set parameters\n",
    "# set parameters\n",
    "with open(\"data/parameter_estimates.json\", \"r\") as file: # 2014 and 1998 parameters are identical\n",
    "    params = json.load(file) \n",
    "\n",
    "with open(\"data/data_1998.json\", \"r\") as file:\n",
    "    data = json.load(file)\n",
    "\n",
    "\n",
    "parameters = get_params(params)\n",
    "data_1998 = get_emp_data(data)"
   ]
  },
  {
   "cell_type": "code",
   "execution_count": 6,
   "metadata": {},
   "outputs": [
    {
     "name": "stdout",
     "output_type": "stream",
     "text": [
      "lam = 0.007980000000000001\n",
      "mu = 0.011105\n",
      "\n",
      "nu = 0.0069524999999999995\n",
      "m_H = 1\n",
      "m_L = 0\n",
      "m_B = 0\n",
      "\n",
      "C1 = 0.5\n",
      "C2 = 0\n",
      "\n",
      "q = \n",
      "[[1.    0.45  0.    0.    0.074]\n",
      " [0.    0.    1.    1.    0.   ]\n",
      " [0.    0.55  0.    0.    0.926]]\n",
      "\n",
      "sHB = 0\n",
      "sBH = 0\n",
      "sLB = 0\n",
      "sLH = 0\n",
      "\n",
      "a_LB = 0\n",
      "a_HB = 0\n",
      "a_BL = 0\n",
      "a_BH = 0\n"
     ]
    }
   ],
   "source": [
    "parameters.print_params()"
   ]
  },
  {
   "cell_type": "code",
   "execution_count": 7,
   "metadata": {},
   "outputs": [
    {
     "name": "stdout",
     "output_type": "stream",
     "text": [
      "xH =\n",
      "[0.316 0.396]\n",
      "xL =\n",
      "[0 0]\n",
      "xB =\n",
      "[0.684 0.604]\n",
      "years\n",
      "[1998 2014]\n"
     ]
    }
   ],
   "source": [
    "data_1998.print_data()"
   ]
  },
  {
   "cell_type": "code",
   "execution_count": 8,
   "metadata": {},
   "outputs": [
    {
     "ename": "NameError",
     "evalue": "name 'trajectory' is not defined",
     "output_type": "error",
     "traceback": [
      "\u001b[0;31m---------------------------------------------------------------------------\u001b[0m",
      "\u001b[0;31mNameError\u001b[0m                                 Traceback (most recent call last)",
      "\u001b[0;32m<ipython-input-8-66d5b0eb39b5>\u001b[0m in \u001b[0;36m<module>\u001b[0;34m\u001b[0m\n\u001b[0;32m----> 1\u001b[0;31m \u001b[0mtraj_1998\u001b[0m \u001b[0;34m=\u001b[0m \u001b[0mtrajectory\u001b[0m\u001b[0;34m(\u001b[0m\u001b[0mT\u001b[0m\u001b[0;34m,\u001b[0m \u001b[0mparameters\u001b[0m\u001b[0;34m,\u001b[0m \u001b[0mdata_1998\u001b[0m\u001b[0;34m)\u001b[0m\u001b[0;34m\u001b[0m\u001b[0;34m\u001b[0m\u001b[0m\n\u001b[0m",
      "\u001b[0;31mNameError\u001b[0m: name 'trajectory' is not defined"
     ]
    }
   ],
   "source": [
    "traj_1998 = trajectory(T, parameters, data_1998)"
   ]
  },
  {
   "cell_type": "code",
   "execution_count": null,
   "metadata": {},
   "outputs": [],
   "source": [
    "# Absolute numbers\n",
    "plot_trajectory(traj_1998, \n",
    "                data_1998, \n",
    "                y_scaling = 1000, \n",
    "                y_lim = 1400000,\n",
    "                fname=\"plots/full_absolute_1998.png\")"
   ]
  },
  {
   "cell_type": "code",
   "execution_count": null,
   "metadata": {},
   "outputs": [],
   "source": [
    "plot_trajectory_relative(traj_1998, data_1998,fname=\"plots/full_relative_1998.png\")"
   ]
  },
  {
   "cell_type": "code",
   "execution_count": null,
   "metadata": {},
   "outputs": [],
   "source": [
    "plot_trajectory_relative_fill(traj_1998, data_1998,fname=\"plots/full_relative_fill_1998.png\")"
   ]
  },
  {
   "cell_type": "markdown",
   "metadata": {
    "heading_collapsed": true
   },
   "source": [
    "### Version 2: Start at 2014"
   ]
  },
  {
   "cell_type": "code",
   "execution_count": null,
   "metadata": {
    "hidden": true
   },
   "outputs": [],
   "source": [
    "# set parameters\n",
    "with open(\"data/data_2014.json\", \"r\") as file:\n",
    "    data_full_2014 = json.load(file)\n",
    "\n",
    "data_2014 = get_emp_data(data_full_2014)"
   ]
  },
  {
   "cell_type": "code",
   "execution_count": null,
   "metadata": {
    "hidden": true
   },
   "outputs": [],
   "source": [
    "traj_2014 = trajectory(T, parameters, data_2014)"
   ]
  },
  {
   "cell_type": "code",
   "execution_count": null,
   "metadata": {
    "hidden": true
   },
   "outputs": [],
   "source": [
    "plot_trajectory(traj_2014, \n",
    "                data_2014, \n",
    "                y_scaling = 1000, \n",
    "                y_lim = 1400000,\n",
    "                fname=\"plots/full_absolute_2014.png\")"
   ]
  },
  {
   "cell_type": "code",
   "execution_count": null,
   "metadata": {
    "hidden": true
   },
   "outputs": [],
   "source": [
    "plot_trajectory_relative(traj_2014, data_2014,fname=\"plots/full_relative_2014.png\")"
   ]
  },
  {
   "cell_type": "code",
   "execution_count": null,
   "metadata": {
    "hidden": true
   },
   "outputs": [],
   "source": [
    "plot_trajectory_relative_fill(traj_2014, data_2014,fname=\"plots/full_relative_fill_2014.png\")"
   ]
  },
  {
   "cell_type": "code",
   "execution_count": null,
   "metadata": {
    "hidden": true
   },
   "outputs": [],
   "source": []
  },
  {
   "cell_type": "markdown",
   "metadata": {
    "heading_collapsed": true
   },
   "source": [
    "## Model 2: Friuli sample / old sample"
   ]
  },
  {
   "cell_type": "markdown",
   "metadata": {
    "hidden": true
   },
   "source": [
    "**Note**: For the \"old sample\", we work with the unadjusted familiy transition rates q. This is due to the fact that the 2014 transition rates are no good estimate for the 1978 rates "
   ]
  },
  {
   "cell_type": "code",
   "execution_count": null,
   "metadata": {
    "hidden": true
   },
   "outputs": [],
   "source": [
    "# set parameters\n",
    "# set parameters\n",
    "with open(\"data/parameter_estimates_unadjusted.json\", \"r\") as file:\n",
    "    param_old = json.load(file)\n",
    "    \n",
    "with open(\"data/data_old.json\", \"r\") as file:\n",
    "    data = json.load(file)\n",
    "    \n",
    "\n",
    "parameters_old = get_params(param_old)\n",
    "data_old = get_emp_data(data)"
   ]
  },
  {
   "cell_type": "code",
   "execution_count": null,
   "metadata": {
    "hidden": true
   },
   "outputs": [],
   "source": [
    "parameters_old.print_params()"
   ]
  },
  {
   "cell_type": "code",
   "execution_count": null,
   "metadata": {
    "hidden": true
   },
   "outputs": [],
   "source": [
    "data_old.print_data()"
   ]
  },
  {
   "cell_type": "markdown",
   "metadata": {
    "hidden": true
   },
   "source": [
    "**relative**"
   ]
  },
  {
   "cell_type": "code",
   "execution_count": null,
   "metadata": {
    "hidden": true
   },
   "outputs": [],
   "source": [
    "traj_old = trajectory_rel(T, parameters_old, data_old)"
   ]
  },
  {
   "cell_type": "code",
   "execution_count": null,
   "metadata": {
    "hidden": true
   },
   "outputs": [],
   "source": [
    "plot_trajectory_relative(traj_old, data_old,fname=\"plots/old_relative_all.png\")"
   ]
  },
  {
   "cell_type": "code",
   "execution_count": null,
   "metadata": {
    "hidden": true
   },
   "outputs": [],
   "source": [
    "plot_trajectory_relative_fill(traj_old, data_old,fname=\"plots/old_relative_filled_all.png\")"
   ]
  },
  {
   "cell_type": "markdown",
   "metadata": {},
   "source": [
    "## Comparison: 3 models at final time"
   ]
  },
  {
   "cell_type": "code",
   "execution_count": null,
   "metadata": {},
   "outputs": [],
   "source": [
    "traj_1998_end = np.array(traj_1998[1:,-1])\n",
    "traj_1998_end_rel = traj_1998_end/sum(traj_1998_end)\n",
    "\n",
    "traj_2014_end = np.array(traj_2014[1:,-1])\n",
    "traj_2014_end_rel = traj_2014_end/sum(traj_2014_end)\n",
    "\n",
    "traj_2014_start = np.array(traj_2014[1:,0])\n",
    "traj_2014_start_rel = traj_2014_start/sum(traj_2014_start)\n",
    "\n",
    "\n",
    "traj_old_end_rel = np.array(traj_old[1:,-1])"
   ]
  },
  {
   "cell_type": "code",
   "execution_count": null,
   "metadata": {},
   "outputs": [],
   "source": [
    "print(\"2014\")\n",
    "print(f\"   N = {traj_2014_start[0]+traj_2014_start[2] :0.0f}\")\n",
    "print(f\"   NB = {traj_2014_start[2] :0.0f}\")\n",
    "print(f\"   NH = {traj_2014_start[0] :0.0f}\")\n",
    "print(f\"   xB = {traj_2014_start_rel[2] :0.3f}\")\n",
    "print(f\"   xH = {traj_2014_start_rel[0] :0.3f}\")\n",
    "\n",
    "print(\"\")\n",
    "\n",
    "print(f\"T = {T}\")\n",
    "\n",
    "print(\"\")\n",
    "print(f\" Full sample, start 1998\")\n",
    "print(f\"   N = {traj_1998_end[0]+traj_1998_end[2] :0.0f}\")\n",
    "print(f\"   NB = {traj_1998_end[2] :0.0f}\")\n",
    "print(f\"   NH = {traj_1998_end[0] :0.0f}\")\n",
    "print(f\"   xB = {traj_1998_end_rel[2] :0.3f}\")\n",
    "print(f\"   xH = {traj_1998_end_rel[0] :0.3f}\")\n",
    "\n",
    "\n",
    "\n",
    "print(\"\")\n",
    "print(f\" Full sample, start 2014\")\n",
    "print(f\"   N = {traj_2014_end[0]+traj_2014_end[2] :0.0f}\")\n",
    "print(f\"   xB = {traj_2014_end_rel[2] :0.3f}\")\n",
    "print(f\"   xH = {traj_2014_end_rel[0] :0.3f}\")\n",
    "\n",
    "print(\"\")\n",
    "print(f\" Old sample\")\n",
    "print(f\"   xB = {traj_old_end_rel[2] :0.3f}\")\n",
    "print(f\"   xH = {traj_old_end_rel[0] :0.3f}\")\n",
    "\n",
    "\n",
    "\n"
   ]
  },
  {
   "cell_type": "markdown",
   "metadata": {},
   "source": [
    "**adjusting projection from \"old sample\" with 1998, 2014 data**"
   ]
  },
  {
   "cell_type": "code",
   "execution_count": null,
   "metadata": {},
   "outputs": [],
   "source": [
    "print(\"\")\n",
    "print(f\" Version old - adjusted with empirical fraction from 1998\")\n",
    "print(f\"   xB = {traj_old_end_rel[2]*data_1998.Rel.xB[0]/data_old.Rel.xB[1]}\")\n",
    "print(f\"   xH = {1-traj_old_end_rel[2]*data_1998.Rel.xB[0]/data_old.Rel.xB[1]}\")\n",
    "\n",
    "print(\"\")\n",
    "print(f\" Version old - adjusted with empirical fraction from 2014\")\n",
    "print(f\"   xB = {traj_old_end_rel[2]*data_2014.Rel.xB[0]/data_old.Rel.xB[1]}\")\n",
    "print(f\"   xH = {1-traj_old_end_rel[2]*data_2014.Rel.xB[0]/data_old.Rel.xB[1]}\")"
   ]
  },
  {
   "cell_type": "markdown",
   "metadata": {},
   "source": [
    "## Analysis for individual provinces"
   ]
  },
  {
   "cell_type": "markdown",
   "metadata": {},
   "source": [
    "### Udine"
   ]
  },
  {
   "cell_type": "code",
   "execution_count": null,
   "metadata": {},
   "outputs": [],
   "source": [
    "# set parameters\n",
    "with open(\"data/data_udine_2014.json\", \"r\") as file:\n",
    "    data_udine_2014 = json.load(file)\n",
    "\n",
    "data_udine = get_emp_data(data_udine_2014)\n",
    "\n",
    "traj_udine = trajectory(T, parameters, data_udine)"
   ]
  },
  {
   "cell_type": "code",
   "execution_count": null,
   "metadata": {},
   "outputs": [],
   "source": [
    "plot_trajectory(traj_udine, \n",
    "                data_udine,\n",
    "                y_scaling = 1000, \n",
    "                y_lim = 700000,\n",
    "                fname = \"plots/absolute_udine.png\")"
   ]
  },
  {
   "cell_type": "markdown",
   "metadata": {},
   "source": [
    "### Pordenone"
   ]
  },
  {
   "cell_type": "code",
   "execution_count": null,
   "metadata": {},
   "outputs": [],
   "source": [
    "# set parameters\n",
    "with open(\"data/data_pordenone_2014.json\", \"r\") as file:\n",
    "    data_pordenone_2014 = json.load(file)\n",
    "\n",
    "data_pordenone = get_emp_data(data_pordenone_2014)\n",
    "\n",
    "traj_pordenone = trajectory(T, parameters, data_pordenone)"
   ]
  },
  {
   "cell_type": "code",
   "execution_count": null,
   "metadata": {},
   "outputs": [],
   "source": [
    "plot_trajectory(traj_pordenone,\n",
    "                data_pordenone,\n",
    "                y_scaling = 1000,\n",
    "                y_lim = 700000,\n",
    "                fname = \"plots/absolute_pordenone.png\")"
   ]
  },
  {
   "cell_type": "markdown",
   "metadata": {},
   "source": [
    "### Gorizia"
   ]
  },
  {
   "cell_type": "code",
   "execution_count": null,
   "metadata": {},
   "outputs": [],
   "source": [
    "# set parameters\n",
    "with open(\"data/data_gorizia_2014.json\", \"r\") as file:\n",
    "    data_gorizia_2014 = json.load(file)\n",
    "\n",
    "data_gorizia = get_emp_data(data_gorizia_2014)\n",
    "\n",
    "traj_gorizia = trajectory(T, parameters, data_gorizia)"
   ]
  },
  {
   "cell_type": "code",
   "execution_count": null,
   "metadata": {},
   "outputs": [],
   "source": [
    "plot_trajectory(traj_gorizia, \n",
    "                data_gorizia,\n",
    "                y_scaling = 1000,\n",
    "                y_lim = 700000,\n",
    "                fname = \"plots/absolute_gorizia.png\")"
   ]
  },
  {
   "cell_type": "markdown",
   "metadata": {},
   "source": [
    "### Comparison"
   ]
  },
  {
   "cell_type": "code",
   "execution_count": null,
   "metadata": {},
   "outputs": [],
   "source": [
    "udine_start  = np.array(traj_udine[1:,0])\n",
    "udine_end = np.array(traj_udine[1:,-1])\n",
    "\n",
    "pordenone_start  = np.array(traj_pordenone[1:,0])\n",
    "pordenone_end = np.array(traj_pordenone[1:,-1])\n",
    "\n",
    "gorizia_start = np.array(traj_gorizia[1:,0])\n",
    "gorizia_end = np.array(traj_gorizia[1:,-1])\n",
    "\n",
    "total_start = udine_start + pordenone_start + gorizia_start\n",
    "total_end = udine_end + pordenone_end + gorizia_end\n"
   ]
  },
  {
   "cell_type": "code",
   "execution_count": null,
   "metadata": {},
   "outputs": [],
   "source": [
    "print(\"\")\n",
    "print(\"Udine\")\n",
    "print(\"  2014\")\n",
    "print(f\"   N = {udine_start[2]+udine_start[0] :0.0f}\")\n",
    "print(f\"   NB = {udine_start[2] :0.0f}\")\n",
    "print(f\"   NH = {udine_start[0] :0.0f}\")\n",
    "print(f\"   xB = {udine_start[2]/(udine_start[0]+udine_start[2]) :0.3f}\")\n",
    "print(f\"   xH = {udine_start[0]/(udine_start[0]+udine_start[2]) :0.3f}\")\n",
    "print(\"\")\n",
    "print(f\"  {T}\")\n",
    "print(f\"   N = {udine_end[2]+udine_end[0] :0.0f}\")\n",
    "print(f\"   NB = {udine_end[2] :0.0f}\")\n",
    "print(f\"   NH = {udine_end[0] :0.0f}\")\n",
    "print(f\"   xB = {udine_end[2]/(udine_end[0]+udine_end[2]) :0.3f}\")\n",
    "print(f\"   xH = {udine_end[0]/(udine_end[0]+udine_end[2]) :0.3f}\")"
   ]
  },
  {
   "cell_type": "code",
   "execution_count": null,
   "metadata": {},
   "outputs": [],
   "source": [
    "print(\"pordenone\")\n",
    "print(\"  2014\")\n",
    "print(f\"   N = {pordenone_start[2]+pordenone_start[0] :0.0f}\")\n",
    "print(f\"   NB = {pordenone_start[2] :0.0f}\")\n",
    "print(f\"   NH = {pordenone_start[0] :0.0f}\")\n",
    "print(f\"   xB = {pordenone_start[2]/(pordenone_start[0]+pordenone_start[2]) :0.3f}\")\n",
    "print(f\"   xH = {pordenone_start[0]/(pordenone_start[0]+pordenone_start[2]) :0.3f}\")\n",
    "print(\"\")\n",
    "print(f\"  {T}\")\n",
    "print(f\"   N = {pordenone_end[2]+pordenone_end[0] :0.0f}\")\n",
    "print(f\"   NB = {pordenone_end[2] :0.0f}\")\n",
    "print(f\"   NH = {pordenone_end[0] :0.0f}\")\n",
    "print(f\"   xB = {pordenone_end[2]/(pordenone_end[0]+pordenone_end[2]) :0.3f}\")\n",
    "print(f\"   xH = {pordenone_end[0]/(pordenone_end[0]+pordenone_end[2]) :0.3f}\")"
   ]
  },
  {
   "cell_type": "code",
   "execution_count": null,
   "metadata": {},
   "outputs": [],
   "source": [
    "print(\"gorizia\")\n",
    "print(\"  2014\")\n",
    "print(f\"   N = {gorizia_start[2]+gorizia_start[0] :0.0f}\")\n",
    "print(f\"   NB = {gorizia_start[2] :0.0f}\")\n",
    "print(f\"   NH = {gorizia_start[0] :0.0f}\")\n",
    "print(f\"   xB = {gorizia_start[2]/(gorizia_start[0]+gorizia_start[2]) :0.3f}\")\n",
    "print(f\"   xH = {gorizia_start[0]/(gorizia_start[0]+gorizia_start[2]) :0.3f}\")\n",
    "print(\"\")\n",
    "print(f\"  {T}\")\n",
    "print(f\"   N = {gorizia_end[2]+gorizia_end[0] :0.0f}\")\n",
    "print(f\"   NB = {gorizia_end[2] :0.0f}\")\n",
    "print(f\"   NH = {gorizia_end[0] :0.0f}\")\n",
    "print(f\"   xB = {gorizia_end[2]/(gorizia_end[0]+gorizia_end[2]) :0.3f}\")\n",
    "print(f\"   xH = {gorizia_end[0]/(gorizia_end[0]+gorizia_end[2]) :0.3f}\")"
   ]
  },
  {
   "cell_type": "code",
   "execution_count": null,
   "metadata": {},
   "outputs": [],
   "source": [
    "print(\"TOTAL\")\n",
    "print(\"  2014\")\n",
    "print(f\"   N = {total_start[0]+total_start[2] :0.0f}\")\n",
    "print(f\"   NB = {total_start[2] :0.0f}\")\n",
    "print(f\"   NH = {total_start[0] :0.0f}\")\n",
    "print(f\"   xB = {total_start[2]/(total_start[0]+total_start[2]) :0.3f}\")\n",
    "print(f\"   xH = {total_start[0]/(total_start[0]+total_start[2]) :0.3f}\")\n",
    "print(\"\")\n",
    "print(f\"  {T}\")\n",
    "print(f\"   N = {total_end[2]+total_end[0] :0.0f}\")\n",
    "print(f\"   NB = {total_end[2] :0.0f}\")\n",
    "print(f\"   NH = {total_end[0] :0.0f}\")\n",
    "print(f\"   xB = {total_end[2]/(total_end[0]+total_end[2]) :0.3f}\")\n",
    "print(f\"   xH = {total_end[0]/(total_end[0]+total_end[2]) :0.3f}\")"
   ]
  },
  {
   "cell_type": "code",
   "execution_count": null,
   "metadata": {},
   "outputs": [],
   "source": []
  }
 ],
 "metadata": {
  "kernelspec": {
   "display_name": "Python 3",
   "language": "python",
   "name": "python3"
  },
  "language_info": {
   "codemirror_mode": {
    "name": "ipython",
    "version": 3
   },
   "file_extension": ".py",
   "mimetype": "text/x-python",
   "name": "python",
   "nbconvert_exporter": "python",
   "pygments_lexer": "ipython3",
   "version": "3.8.3"
  }
 },
 "nbformat": 4,
 "nbformat_minor": 2
}
